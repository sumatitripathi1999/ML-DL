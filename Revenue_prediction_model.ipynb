{
  "nbformat": 4,
  "nbformat_minor": 0,
  "metadata": {
    "colab": {
      "name": "Revenue prediction model.ipynb",
      "provenance": []
    },
    "kernelspec": {
      "name": "python3",
      "display_name": "Python 3"
    },
    "language_info": {
      "name": "python"
    }
  },
  "cells": [
    {
      "cell_type": "markdown",
      "source": [
        "**Import the libraries**\n"
      ],
      "metadata": {
        "id": "S9LbURBGWXPb"
      }
    },
    {
      "cell_type": "code",
      "execution_count": null,
      "metadata": {
        "id": "2hKSOMe9Gybm"
      },
      "outputs": [],
      "source": [
        "import pandas as pd\n",
        "import numpy as np\n",
        "import matplotlib.pyplot as plt"
      ]
    },
    {
      "cell_type": "markdown",
      "source": [
        "**Load the dataset**"
      ],
      "metadata": {
        "id": "PL7EbALUWmoN"
      }
    },
    {
      "cell_type": "code",
      "source": [
        "df=pd.read_csv(\"revenue_prediction.csv\")"
      ],
      "metadata": {
        "id": "fKQztvHPG6z-"
      },
      "execution_count": null,
      "outputs": []
    },
    {
      "cell_type": "code",
      "source": [
        "df.head()"
      ],
      "metadata": {
        "colab": {
          "base_uri": "https://localhost:8080/",
          "height": 206
        },
        "id": "fJu7vhdQHDUT",
        "outputId": "9aa77fce-21e3-411e-ad7b-596cb4848b20"
      },
      "execution_count": null,
      "outputs": [
        {
          "output_type": "execute_result",
          "data": {
            "text/plain": [
              "    Id                  Name Franchise       Category       City  No_Of_Item  \\\n",
              "0  101    HungryHowie'sPizza       Yes        Mexican  Bengaluru          55   \n",
              "1  102  CharleysPhillySteaks        No    Varied Menu   Gurugram          72   \n",
              "2  103                Chuy's       Yes        Chicken       Pune          25   \n",
              "3  104           O'Charley's       Yes  Italian/Pizza     Mumbai          18   \n",
              "4  105         PolloTropical       Yes          Pizza      Noida          48   \n",
              "\n",
              "   Order_Placed  Revenue  \n",
              "0           5.5  5953753  \n",
              "1           6.8  7223131  \n",
              "2           1.9  2555379  \n",
              "3           2.5  2175511  \n",
              "4           4.2  4816715  "
            ],
            "text/html": [
              "\n",
              "  <div id=\"df-0430b1e8-0a6a-4aee-93ae-176774bdb3db\">\n",
              "    <div class=\"colab-df-container\">\n",
              "      <div>\n",
              "<style scoped>\n",
              "    .dataframe tbody tr th:only-of-type {\n",
              "        vertical-align: middle;\n",
              "    }\n",
              "\n",
              "    .dataframe tbody tr th {\n",
              "        vertical-align: top;\n",
              "    }\n",
              "\n",
              "    .dataframe thead th {\n",
              "        text-align: right;\n",
              "    }\n",
              "</style>\n",
              "<table border=\"1\" class=\"dataframe\">\n",
              "  <thead>\n",
              "    <tr style=\"text-align: right;\">\n",
              "      <th></th>\n",
              "      <th>Id</th>\n",
              "      <th>Name</th>\n",
              "      <th>Franchise</th>\n",
              "      <th>Category</th>\n",
              "      <th>City</th>\n",
              "      <th>No_Of_Item</th>\n",
              "      <th>Order_Placed</th>\n",
              "      <th>Revenue</th>\n",
              "    </tr>\n",
              "  </thead>\n",
              "  <tbody>\n",
              "    <tr>\n",
              "      <th>0</th>\n",
              "      <td>101</td>\n",
              "      <td>HungryHowie'sPizza</td>\n",
              "      <td>Yes</td>\n",
              "      <td>Mexican</td>\n",
              "      <td>Bengaluru</td>\n",
              "      <td>55</td>\n",
              "      <td>5.5</td>\n",
              "      <td>5953753</td>\n",
              "    </tr>\n",
              "    <tr>\n",
              "      <th>1</th>\n",
              "      <td>102</td>\n",
              "      <td>CharleysPhillySteaks</td>\n",
              "      <td>No</td>\n",
              "      <td>Varied Menu</td>\n",
              "      <td>Gurugram</td>\n",
              "      <td>72</td>\n",
              "      <td>6.8</td>\n",
              "      <td>7223131</td>\n",
              "    </tr>\n",
              "    <tr>\n",
              "      <th>2</th>\n",
              "      <td>103</td>\n",
              "      <td>Chuy's</td>\n",
              "      <td>Yes</td>\n",
              "      <td>Chicken</td>\n",
              "      <td>Pune</td>\n",
              "      <td>25</td>\n",
              "      <td>1.9</td>\n",
              "      <td>2555379</td>\n",
              "    </tr>\n",
              "    <tr>\n",
              "      <th>3</th>\n",
              "      <td>104</td>\n",
              "      <td>O'Charley's</td>\n",
              "      <td>Yes</td>\n",
              "      <td>Italian/Pizza</td>\n",
              "      <td>Mumbai</td>\n",
              "      <td>18</td>\n",
              "      <td>2.5</td>\n",
              "      <td>2175511</td>\n",
              "    </tr>\n",
              "    <tr>\n",
              "      <th>4</th>\n",
              "      <td>105</td>\n",
              "      <td>PolloTropical</td>\n",
              "      <td>Yes</td>\n",
              "      <td>Pizza</td>\n",
              "      <td>Noida</td>\n",
              "      <td>48</td>\n",
              "      <td>4.2</td>\n",
              "      <td>4816715</td>\n",
              "    </tr>\n",
              "  </tbody>\n",
              "</table>\n",
              "</div>\n",
              "      <button class=\"colab-df-convert\" onclick=\"convertToInteractive('df-0430b1e8-0a6a-4aee-93ae-176774bdb3db')\"\n",
              "              title=\"Convert this dataframe to an interactive table.\"\n",
              "              style=\"display:none;\">\n",
              "        \n",
              "  <svg xmlns=\"http://www.w3.org/2000/svg\" height=\"24px\"viewBox=\"0 0 24 24\"\n",
              "       width=\"24px\">\n",
              "    <path d=\"M0 0h24v24H0V0z\" fill=\"none\"/>\n",
              "    <path d=\"M18.56 5.44l.94 2.06.94-2.06 2.06-.94-2.06-.94-.94-2.06-.94 2.06-2.06.94zm-11 1L8.5 8.5l.94-2.06 2.06-.94-2.06-.94L8.5 2.5l-.94 2.06-2.06.94zm10 10l.94 2.06.94-2.06 2.06-.94-2.06-.94-.94-2.06-.94 2.06-2.06.94z\"/><path d=\"M17.41 7.96l-1.37-1.37c-.4-.4-.92-.59-1.43-.59-.52 0-1.04.2-1.43.59L10.3 9.45l-7.72 7.72c-.78.78-.78 2.05 0 2.83L4 21.41c.39.39.9.59 1.41.59.51 0 1.02-.2 1.41-.59l7.78-7.78 2.81-2.81c.8-.78.8-2.07 0-2.86zM5.41 20L4 18.59l7.72-7.72 1.47 1.35L5.41 20z\"/>\n",
              "  </svg>\n",
              "      </button>\n",
              "      \n",
              "  <style>\n",
              "    .colab-df-container {\n",
              "      display:flex;\n",
              "      flex-wrap:wrap;\n",
              "      gap: 12px;\n",
              "    }\n",
              "\n",
              "    .colab-df-convert {\n",
              "      background-color: #E8F0FE;\n",
              "      border: none;\n",
              "      border-radius: 50%;\n",
              "      cursor: pointer;\n",
              "      display: none;\n",
              "      fill: #1967D2;\n",
              "      height: 32px;\n",
              "      padding: 0 0 0 0;\n",
              "      width: 32px;\n",
              "    }\n",
              "\n",
              "    .colab-df-convert:hover {\n",
              "      background-color: #E2EBFA;\n",
              "      box-shadow: 0px 1px 2px rgba(60, 64, 67, 0.3), 0px 1px 3px 1px rgba(60, 64, 67, 0.15);\n",
              "      fill: #174EA6;\n",
              "    }\n",
              "\n",
              "    [theme=dark] .colab-df-convert {\n",
              "      background-color: #3B4455;\n",
              "      fill: #D2E3FC;\n",
              "    }\n",
              "\n",
              "    [theme=dark] .colab-df-convert:hover {\n",
              "      background-color: #434B5C;\n",
              "      box-shadow: 0px 1px 3px 1px rgba(0, 0, 0, 0.15);\n",
              "      filter: drop-shadow(0px 1px 2px rgba(0, 0, 0, 0.3));\n",
              "      fill: #FFFFFF;\n",
              "    }\n",
              "  </style>\n",
              "\n",
              "      <script>\n",
              "        const buttonEl =\n",
              "          document.querySelector('#df-0430b1e8-0a6a-4aee-93ae-176774bdb3db button.colab-df-convert');\n",
              "        buttonEl.style.display =\n",
              "          google.colab.kernel.accessAllowed ? 'block' : 'none';\n",
              "\n",
              "        async function convertToInteractive(key) {\n",
              "          const element = document.querySelector('#df-0430b1e8-0a6a-4aee-93ae-176774bdb3db');\n",
              "          const dataTable =\n",
              "            await google.colab.kernel.invokeFunction('convertToInteractive',\n",
              "                                                     [key], {});\n",
              "          if (!dataTable) return;\n",
              "\n",
              "          const docLinkHtml = 'Like what you see? Visit the ' +\n",
              "            '<a target=\"_blank\" href=https://colab.research.google.com/notebooks/data_table.ipynb>data table notebook</a>'\n",
              "            + ' to learn more about interactive tables.';\n",
              "          element.innerHTML = '';\n",
              "          dataTable['output_type'] = 'display_data';\n",
              "          await google.colab.output.renderOutput(dataTable, element);\n",
              "          const docLink = document.createElement('div');\n",
              "          docLink.innerHTML = docLinkHtml;\n",
              "          element.appendChild(docLink);\n",
              "        }\n",
              "      </script>\n",
              "    </div>\n",
              "  </div>\n",
              "  "
            ]
          },
          "metadata": {},
          "execution_count": 3
        }
      ]
    },
    {
      "cell_type": "markdown",
      "source": [
        "**Examining missing values in a dataset**"
      ],
      "metadata": {
        "id": "LCu0U7eEb5i4"
      }
    },
    {
      "cell_type": "code",
      "source": [
        "df.isnull().sum()"
      ],
      "metadata": {
        "colab": {
          "base_uri": "https://localhost:8080/"
        },
        "id": "_sXfMTB-byUZ",
        "outputId": "4fd02d5b-02bd-4e50-b511-bc909e63d803"
      },
      "execution_count": null,
      "outputs": [
        {
          "output_type": "execute_result",
          "data": {
            "text/plain": [
              "Id              0\n",
              "Name            0\n",
              "Franchise       0\n",
              "Category        0\n",
              "City            0\n",
              "No_Of_Item      0\n",
              "Order_Placed    0\n",
              "Revenue         0\n",
              "dtype: int64"
            ]
          },
          "metadata": {},
          "execution_count": 4
        }
      ]
    },
    {
      "cell_type": "markdown",
      "source": [
        "**Drop irrelevant columns**"
      ],
      "metadata": {
        "id": "z5pDy1_iWx_2"
      }
    },
    {
      "cell_type": "code",
      "source": [
        "df=df.drop(columns=[\"Id\",\"Name\",\"Franchise\",\"Category\",\"City\",\"No_Of_Item\"])"
      ],
      "metadata": {
        "id": "nJyavrYXVejd"
      },
      "execution_count": null,
      "outputs": []
    },
    {
      "cell_type": "code",
      "source": [
        "df.head()"
      ],
      "metadata": {
        "colab": {
          "base_uri": "https://localhost:8080/",
          "height": 206
        },
        "id": "qyq_DulNW4uM",
        "outputId": "d829e46f-e54c-43cb-924e-79a88a8fa172"
      },
      "execution_count": null,
      "outputs": [
        {
          "output_type": "execute_result",
          "data": {
            "text/plain": [
              "   Order_Placed  Revenue\n",
              "0           5.5  5953753\n",
              "1           6.8  7223131\n",
              "2           1.9  2555379\n",
              "3           2.5  2175511\n",
              "4           4.2  4816715"
            ],
            "text/html": [
              "\n",
              "  <div id=\"df-cc824e78-3af4-4cfb-a7ba-a5d3ac3b4e2a\">\n",
              "    <div class=\"colab-df-container\">\n",
              "      <div>\n",
              "<style scoped>\n",
              "    .dataframe tbody tr th:only-of-type {\n",
              "        vertical-align: middle;\n",
              "    }\n",
              "\n",
              "    .dataframe tbody tr th {\n",
              "        vertical-align: top;\n",
              "    }\n",
              "\n",
              "    .dataframe thead th {\n",
              "        text-align: right;\n",
              "    }\n",
              "</style>\n",
              "<table border=\"1\" class=\"dataframe\">\n",
              "  <thead>\n",
              "    <tr style=\"text-align: right;\">\n",
              "      <th></th>\n",
              "      <th>Order_Placed</th>\n",
              "      <th>Revenue</th>\n",
              "    </tr>\n",
              "  </thead>\n",
              "  <tbody>\n",
              "    <tr>\n",
              "      <th>0</th>\n",
              "      <td>5.5</td>\n",
              "      <td>5953753</td>\n",
              "    </tr>\n",
              "    <tr>\n",
              "      <th>1</th>\n",
              "      <td>6.8</td>\n",
              "      <td>7223131</td>\n",
              "    </tr>\n",
              "    <tr>\n",
              "      <th>2</th>\n",
              "      <td>1.9</td>\n",
              "      <td>2555379</td>\n",
              "    </tr>\n",
              "    <tr>\n",
              "      <th>3</th>\n",
              "      <td>2.5</td>\n",
              "      <td>2175511</td>\n",
              "    </tr>\n",
              "    <tr>\n",
              "      <th>4</th>\n",
              "      <td>4.2</td>\n",
              "      <td>4816715</td>\n",
              "    </tr>\n",
              "  </tbody>\n",
              "</table>\n",
              "</div>\n",
              "      <button class=\"colab-df-convert\" onclick=\"convertToInteractive('df-cc824e78-3af4-4cfb-a7ba-a5d3ac3b4e2a')\"\n",
              "              title=\"Convert this dataframe to an interactive table.\"\n",
              "              style=\"display:none;\">\n",
              "        \n",
              "  <svg xmlns=\"http://www.w3.org/2000/svg\" height=\"24px\"viewBox=\"0 0 24 24\"\n",
              "       width=\"24px\">\n",
              "    <path d=\"M0 0h24v24H0V0z\" fill=\"none\"/>\n",
              "    <path d=\"M18.56 5.44l.94 2.06.94-2.06 2.06-.94-2.06-.94-.94-2.06-.94 2.06-2.06.94zm-11 1L8.5 8.5l.94-2.06 2.06-.94-2.06-.94L8.5 2.5l-.94 2.06-2.06.94zm10 10l.94 2.06.94-2.06 2.06-.94-2.06-.94-.94-2.06-.94 2.06-2.06.94z\"/><path d=\"M17.41 7.96l-1.37-1.37c-.4-.4-.92-.59-1.43-.59-.52 0-1.04.2-1.43.59L10.3 9.45l-7.72 7.72c-.78.78-.78 2.05 0 2.83L4 21.41c.39.39.9.59 1.41.59.51 0 1.02-.2 1.41-.59l7.78-7.78 2.81-2.81c.8-.78.8-2.07 0-2.86zM5.41 20L4 18.59l7.72-7.72 1.47 1.35L5.41 20z\"/>\n",
              "  </svg>\n",
              "      </button>\n",
              "      \n",
              "  <style>\n",
              "    .colab-df-container {\n",
              "      display:flex;\n",
              "      flex-wrap:wrap;\n",
              "      gap: 12px;\n",
              "    }\n",
              "\n",
              "    .colab-df-convert {\n",
              "      background-color: #E8F0FE;\n",
              "      border: none;\n",
              "      border-radius: 50%;\n",
              "      cursor: pointer;\n",
              "      display: none;\n",
              "      fill: #1967D2;\n",
              "      height: 32px;\n",
              "      padding: 0 0 0 0;\n",
              "      width: 32px;\n",
              "    }\n",
              "\n",
              "    .colab-df-convert:hover {\n",
              "      background-color: #E2EBFA;\n",
              "      box-shadow: 0px 1px 2px rgba(60, 64, 67, 0.3), 0px 1px 3px 1px rgba(60, 64, 67, 0.15);\n",
              "      fill: #174EA6;\n",
              "    }\n",
              "\n",
              "    [theme=dark] .colab-df-convert {\n",
              "      background-color: #3B4455;\n",
              "      fill: #D2E3FC;\n",
              "    }\n",
              "\n",
              "    [theme=dark] .colab-df-convert:hover {\n",
              "      background-color: #434B5C;\n",
              "      box-shadow: 0px 1px 3px 1px rgba(0, 0, 0, 0.15);\n",
              "      filter: drop-shadow(0px 1px 2px rgba(0, 0, 0, 0.3));\n",
              "      fill: #FFFFFF;\n",
              "    }\n",
              "  </style>\n",
              "\n",
              "      <script>\n",
              "        const buttonEl =\n",
              "          document.querySelector('#df-cc824e78-3af4-4cfb-a7ba-a5d3ac3b4e2a button.colab-df-convert');\n",
              "        buttonEl.style.display =\n",
              "          google.colab.kernel.accessAllowed ? 'block' : 'none';\n",
              "\n",
              "        async function convertToInteractive(key) {\n",
              "          const element = document.querySelector('#df-cc824e78-3af4-4cfb-a7ba-a5d3ac3b4e2a');\n",
              "          const dataTable =\n",
              "            await google.colab.kernel.invokeFunction('convertToInteractive',\n",
              "                                                     [key], {});\n",
              "          if (!dataTable) return;\n",
              "\n",
              "          const docLinkHtml = 'Like what you see? Visit the ' +\n",
              "            '<a target=\"_blank\" href=https://colab.research.google.com/notebooks/data_table.ipynb>data table notebook</a>'\n",
              "            + ' to learn more about interactive tables.';\n",
              "          element.innerHTML = '';\n",
              "          dataTable['output_type'] = 'display_data';\n",
              "          await google.colab.output.renderOutput(dataTable, element);\n",
              "          const docLink = document.createElement('div');\n",
              "          docLink.innerHTML = docLinkHtml;\n",
              "          element.appendChild(docLink);\n",
              "        }\n",
              "      </script>\n",
              "    </div>\n",
              "  </div>\n",
              "  "
            ]
          },
          "metadata": {},
          "execution_count": 6
        }
      ]
    },
    {
      "cell_type": "code",
      "source": [
        "df.shape"
      ],
      "metadata": {
        "colab": {
          "base_uri": "https://localhost:8080/"
        },
        "id": "ZaLfHNMzHHdN",
        "outputId": "22465f95-31ac-443b-8caf-32cbfe9fe53c"
      },
      "execution_count": null,
      "outputs": [
        {
          "output_type": "execute_result",
          "data": {
            "text/plain": [
              "(100, 2)"
            ]
          },
          "metadata": {},
          "execution_count": 7
        }
      ]
    },
    {
      "cell_type": "markdown",
      "source": [
        "**Create independent feature and dependent variable**"
      ],
      "metadata": {
        "id": "IiEj90pJWVhJ"
      }
    },
    {
      "cell_type": "code",
      "source": [
        "x=df.iloc[:,:-1].values\n",
        "y=df.iloc[:,-1].values  "
      ],
      "metadata": {
        "id": "j8GHNVHTHJZE"
      },
      "execution_count": null,
      "outputs": []
    },
    {
      "cell_type": "markdown",
      "source": [
        "**Split the dataset into Training set and Test set**"
      ],
      "metadata": {
        "id": "kRa0LKopaJXJ"
      }
    },
    {
      "cell_type": "code",
      "source": [
        "from sklearn.model_selection import train_test_split\n",
        "x_train,x_test,y_train,y_test=train_test_split(x,y,test_size=0.2,random_state=42)"
      ],
      "metadata": {
        "id": "ze2FGppHHUCl"
      },
      "execution_count": null,
      "outputs": []
    },
    {
      "cell_type": "code",
      "source": [
        "print(x_train)"
      ],
      "metadata": {
        "colab": {
          "base_uri": "https://localhost:8080/"
        },
        "id": "3sWj-yFDWWQP",
        "outputId": "42815376-b43c-4328-ffa6-4aecd4b7f70d"
      },
      "execution_count": null,
      "outputs": [
        {
          "output_type": "stream",
          "name": "stdout",
          "text": [
            "[[ 6.8]\n",
            " [ 1.9]\n",
            " [ 2.1]\n",
            " [ 4.8]\n",
            " [ 3.3]\n",
            " [ 3.1]\n",
            " [ 6.7]\n",
            " [ 6.3]\n",
            " [ 5.3]\n",
            " [ 2.4]\n",
            " [ 5. ]\n",
            " [ 7.7]\n",
            " [ 7.2]\n",
            " [ 4.6]\n",
            " [ 3.3]\n",
            " [ 4.9]\n",
            " [ 1.7]\n",
            " [ 1.6]\n",
            " [ 3.6]\n",
            " [10.8]\n",
            " [ 8.5]\n",
            " [ 4. ]\n",
            " [ 4.3]\n",
            " [ 1.1]\n",
            " [ 5.3]\n",
            " [ 1.9]\n",
            " [ 3.9]\n",
            " [ 3.6]\n",
            " [ 5.1]\n",
            " [ 4.7]\n",
            " [ 8.8]\n",
            " [ 2.5]\n",
            " [ 8.1]\n",
            " [ 5.3]\n",
            " [ 4.8]\n",
            " [ 3.5]\n",
            " [ 5. ]\n",
            " [ 2.4]\n",
            " [ 2.8]\n",
            " [ 2.1]\n",
            " [ 2.1]\n",
            " [ 4.4]\n",
            " [ 4.5]\n",
            " [ 2.6]\n",
            " [ 1.9]\n",
            " [ 3.8]\n",
            " [ 4.1]\n",
            " [ 3.6]\n",
            " [ 4.2]\n",
            " [ 6.2]\n",
            " [ 6.1]\n",
            " [ 4.4]\n",
            " [ 2.9]\n",
            " [ 7.1]\n",
            " [ 2.1]\n",
            " [ 3.1]\n",
            " [13. ]\n",
            " [ 3.1]\n",
            " [ 3.5]\n",
            " [ 3.4]\n",
            " [ 1.5]\n",
            " [ 3.9]\n",
            " [ 2.6]\n",
            " [ 3.3]\n",
            " [ 6.8]\n",
            " [ 1.6]\n",
            " [ 1. ]\n",
            " [ 1.9]\n",
            " [ 2.8]\n",
            " [ 5.8]\n",
            " [ 1.9]\n",
            " [ 5.1]\n",
            " [ 3.1]\n",
            " [ 3.6]\n",
            " [ 5.4]\n",
            " [ 3. ]\n",
            " [ 4. ]\n",
            " [ 1.8]\n",
            " [ 6.5]\n",
            " [ 3.1]]\n"
          ]
        }
      ]
    },
    {
      "cell_type": "code",
      "source": [
        "print(x_test)"
      ],
      "metadata": {
        "colab": {
          "base_uri": "https://localhost:8080/"
        },
        "id": "1KxOKdRgX-g1",
        "outputId": "105fbceb-1a39-4fb2-e7c1-bf6c8ee1cd83"
      },
      "execution_count": null,
      "outputs": [
        {
          "output_type": "stream",
          "name": "stdout",
          "text": [
            "[[5.7]\n",
            " [5.4]\n",
            " [3.8]\n",
            " [3.6]\n",
            " [4. ]\n",
            " [3.7]\n",
            " [3.8]\n",
            " [3.5]\n",
            " [3.6]\n",
            " [5.5]\n",
            " [5.2]\n",
            " [2.9]\n",
            " [3.1]\n",
            " [2.2]\n",
            " [3.3]\n",
            " [4.2]\n",
            " [4.3]\n",
            " [1.7]\n",
            " [1.6]\n",
            " [1.9]]\n"
          ]
        }
      ]
    },
    {
      "cell_type": "code",
      "source": [
        "print(y_train)"
      ],
      "metadata": {
        "colab": {
          "base_uri": "https://localhost:8080/"
        },
        "id": "9lZC_keYX-jZ",
        "outputId": "381971a6-ce21-4a36-90cc-8cdfa19a42e6"
      },
      "execution_count": null,
      "outputs": [
        {
          "output_type": "stream",
          "name": "stdout",
          "text": [
            "[ 6941173  2025297  2967425  4952255  3452382  3918918  6836483  6412623\n",
            "  4544227  2525375  3861370  7865428  7495092  7705945  3410878  4517319\n",
            "  1882131  1756069  3903884 19696939  8630682  4100886  6491607  1270499\n",
            "  6135276  1521934  4066618  2778621  5286212  5107746  7904084  2175511\n",
            "  7513524  5461700  5152497  3871344  5966635  2551252  3028267  2364478\n",
            "  2390534  4567678  4651866  2732645  2156098  4052733  4250758  3836721\n",
            "  4350573  6694797  6313221  4554237  3004429  7201784  2344689  3258837\n",
            " 16549064  3261924  3753720  3600467  1619683  4250553  2740687  2447890\n",
            "  7223131  1763231   849870  2555379  1999068  5906596  2083447  5500818\n",
            "  3351383  3807496  5025735  3164972  4136425  1099097  6782425  3273041]\n"
          ]
        }
      ]
    },
    {
      "cell_type": "code",
      "source": [
        "print(y_test)"
      ],
      "metadata": {
        "colab": {
          "base_uri": "https://localhost:8080/"
        },
        "id": "FwnUjP38X-l4",
        "outputId": "3ea832ba-f786-4e7b-f13c-d08010205d3e"
      },
      "execution_count": null,
      "outputs": [
        {
          "output_type": "stream",
          "name": "stdout",
          "text": [
            "[5966193 5595267 3982767 3752885 4264176 3818055 4956086 3727364 3945135\n",
            " 5953753 4937526 2408199 3347767 2371202 3426169 4816715 4590423 1904842\n",
            " 2234634 2358644]\n"
          ]
        }
      ]
    },
    {
      "cell_type": "markdown",
      "source": [
        "**Training the Simple Linear Regression model on the Training set**"
      ],
      "metadata": {
        "id": "X7Y6_KWEaviN"
      }
    },
    {
      "cell_type": "code",
      "source": [
        "from sklearn.linear_model import LinearRegression\n",
        "regressor=LinearRegression()\n",
        "regressor.fit(x_train,y_train)"
      ],
      "metadata": {
        "colab": {
          "base_uri": "https://localhost:8080/"
        },
        "id": "Z2Bj1OBBX-n4",
        "outputId": "39eb879b-2038-4b31-9540-f39b18903783"
      },
      "execution_count": null,
      "outputs": [
        {
          "output_type": "execute_result",
          "data": {
            "text/plain": [
              "LinearRegression()"
            ]
          },
          "metadata": {},
          "execution_count": 14
        }
      ]
    },
    {
      "cell_type": "markdown",
      "source": [
        "**Predicting the Test set results**"
      ],
      "metadata": {
        "id": "wcoI2ntOa8Is"
      }
    },
    {
      "cell_type": "code",
      "source": [
        "y_pred=regressor.predict(x_test)"
      ],
      "metadata": {
        "id": "wrZ1ekQBX-qS"
      },
      "execution_count": null,
      "outputs": []
    },
    {
      "cell_type": "code",
      "source": [
        "y_pred"
      ],
      "metadata": {
        "colab": {
          "base_uri": "https://localhost:8080/"
        },
        "id": "iIqZnqHkbZdA",
        "outputId": "e564976d-8b4e-415e-e7fb-1e8174f2bf5d"
      },
      "execution_count": null,
      "outputs": [
        {
          "output_type": "execute_result",
          "data": {
            "text/plain": [
              "array([6351103.23642517, 5984998.65773576, 4032440.90472562,\n",
              "       3788371.18559935, 4276510.62385189, 3910406.04516249,\n",
              "       4032440.90472562, 3666336.32603622, 3788371.18559935,\n",
              "       6107033.5172989 , 5740928.9386095 , 2934127.16865742,\n",
              "       3178196.88778369, 2079883.15171548, 3422266.60690995,\n",
              "       4520580.34297816, 4642615.20254129, 1469708.85389981,\n",
              "       1347673.99433668, 1713778.57302608])"
            ]
          },
          "metadata": {},
          "execution_count": 16
        }
      ]
    },
    {
      "cell_type": "markdown",
      "source": [
        "**Visualising the Training set results**"
      ],
      "metadata": {
        "id": "wQ2-zeifbErJ"
      }
    },
    {
      "cell_type": "code",
      "source": [
        "plt.scatter(x_train,y_train,color=\"blue\")\n",
        "plt.plot(x_train,regressor.predict(x_train),color=\"green\")\n",
        "plt.title(\"Revenue vs orders\")\n",
        "plt.xlabel(\"orders\")\n",
        "plt.ylabel(\"Revenue\")\n",
        "\n"
      ],
      "metadata": {
        "colab": {
          "base_uri": "https://localhost:8080/",
          "height": 312
        },
        "id": "lxPy7fYtX-s9",
        "outputId": "cd036bd3-cbb7-45ae-cec0-1a03a24735b3"
      },
      "execution_count": null,
      "outputs": [
        {
          "output_type": "execute_result",
          "data": {
            "text/plain": [
              "Text(0, 0.5, 'Revenue')"
            ]
          },
          "metadata": {},
          "execution_count": 17
        },
        {
          "output_type": "display_data",
          "data": {
            "text/plain": [
              "<Figure size 432x288 with 1 Axes>"
            ],
            "image/png": "[encoded data removed]"
          },
          "metadata": {
            "needs_background": "light"
          }
        }
      ]
    },
    {
      "cell_type": "markdown",
      "source": [
        "**Visualising the Test set results**"
      ],
      "metadata": {
        "id": "NRqJCPbobNvv"
      }
    },
    {
      "cell_type": "code",
      "source": [
        "plt.scatter(x_test,y_test,color=\"blue\")\n",
        "plt.plot(x_train,regressor.predict(x_train),color=\"green\")\n",
        "plt.title(\"Revenue vs orders\")\n",
        "plt.xlabel(\"orders\")\n",
        "plt.ylabel(\"Revenue\")"
      ],
      "metadata": {
        "colab": {
          "base_uri": "https://localhost:8080/",
          "height": 312
        },
        "id": "0b6eaTEBe9Y-",
        "outputId": "a0c3dcbb-fa88-4a6c-cd08-0ff134c7af0f"
      },
      "execution_count": null,
      "outputs": [
        {
          "output_type": "execute_result",
          "data": {
            "text/plain": [
              "Text(0, 0.5, 'Revenue')"
            ]
          },
          "metadata": {},
          "execution_count": 18
        },
        {
          "output_type": "display_data",
          "data": {
            "text/plain": [
              "<Figure size 432x288 with 1 Axes>"
            ],
            "image/png": "[encoded data removed]"
          },
          "metadata": {
            "needs_background": "light"
          }
        }
      ]
    },
    {
      "cell_type": "markdown",
      "source": [
        "**Accuracy of the Model**"
      ],
      "metadata": {
        "id": "TL8w9V2YbpuI"
      }
    },
    {
      "cell_type": "code",
      "source": [
        "from sklearn.metrics import r2_score"
      ],
      "metadata": {
        "id": "qpAaU8rlX-vM"
      },
      "execution_count": null,
      "outputs": []
    },
    {
      "cell_type": "code",
      "source": [
        "score=r2_score(y_pred,y_test)"
      ],
      "metadata": {
        "id": "hHpCHRbPX-y3"
      },
      "execution_count": null,
      "outputs": []
    },
    {
      "cell_type": "code",
      "source": [
        "score"
      ],
      "metadata": {
        "colab": {
          "base_uri": "https://localhost:8080/"
        },
        "id": "D1gOLfZAuH5e",
        "outputId": "0c676630-1f0f-4bbe-daa7-6d5d78f743a2"
      },
      "execution_count": null,
      "outputs": [
        {
          "output_type": "execute_result",
          "data": {
            "text/plain": [
              "0.9109612329066813"
            ]
          },
          "metadata": {},
          "execution_count": 21
        }
      ]
    }
  ]
}